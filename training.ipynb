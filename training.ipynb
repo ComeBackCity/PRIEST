{
 "cells": [
  {
   "cell_type": "code",
   "execution_count": 1,
   "metadata": {},
   "outputs": [],
   "source": [
    "%load_ext autoreload\n",
    "%autoreload 2"
   ]
  },
  {
   "cell_type": "code",
   "execution_count": 2,
   "metadata": {},
   "outputs": [],
   "source": [
    "from src.scripts import training"
   ]
  },
  {
   "cell_type": "code",
   "execution_count": 1,
   "metadata": {},
   "outputs": [
    {
     "name": "stdout",
     "output_type": "stream",
     "text": [
      "torch.Size([3, 2, 4])\n",
      "torch.Size([2, 3, 4])\n"
     ]
    }
   ],
   "source": [
    "import torch\n",
    "\n",
    "t = torch.randint(0, 10, (3, 2, 4))\n",
    "t1 = t.permute((1, 0, 2))\n",
    "print(t.shape)\n",
    "print(t1.shape)"
   ]
  },
  {
   "cell_type": "code",
   "execution_count": 8,
   "metadata": {},
   "outputs": [],
   "source": [
    "import math\n",
    "import torch.nn.functional as F\n",
    "\n",
    "max_seq_len = 3\n",
    "embed_dim = 4\n",
    "device = 'cpu'"
   ]
  },
  {
   "cell_type": "code",
   "execution_count": 3,
   "metadata": {},
   "outputs": [
    {
     "data": {
      "text/plain": [
       "tensor([[ 0.0000,  1.0000,  0.0000,  1.0000],\n",
       "        [ 0.8415,  0.5403,  0.0100,  0.9999],\n",
       "        [ 0.9093, -0.4161,  0.0200,  0.9998]])"
      ]
     },
     "execution_count": 3,
     "metadata": {},
     "output_type": "execute_result"
    }
   ],
   "source": [
    "position = torch.arange(max_seq_len, dtype=torch.float32).unsqueeze(1)\n",
    "div_term = torch.exp(torch.arange(0, embed_dim, 2,  dtype=torch.float32) * (-math.log(10000.0) / embed_dim))\n",
    "\n",
    "positional_encoding = torch.zeros(max_seq_len, embed_dim, device=device)\n",
    "positional_encoding[:, 0::2] = torch.sin(position * div_term)\n",
    "positional_encoding[:, 1::2] = torch.cos(position * div_term)\n",
    "positional_encoding"
   ]
  },
  {
   "cell_type": "code",
   "execution_count": 5,
   "metadata": {},
   "outputs": [
    {
     "data": {
      "text/plain": [
       "tensor([[[5, 8, 5, 0],\n",
       "         [9, 7, 5, 6],\n",
       "         [0, 6, 7, 8]],\n",
       "\n",
       "        [[4, 7, 3, 4],\n",
       "         [8, 0, 7, 1],\n",
       "         [9, 2, 3, 6]]])"
      ]
     },
     "execution_count": 5,
     "metadata": {},
     "output_type": "execute_result"
    }
   ],
   "source": [
    "t1"
   ]
  },
  {
   "cell_type": "code",
   "execution_count": 10,
   "metadata": {},
   "outputs": [
    {
     "data": {
      "text/plain": [
       "tensor([[[5.0000, 9.0000, 5.0000, 1.0000],\n",
       "         [9.8415, 7.5403, 5.0100, 6.9999],\n",
       "         [0.9093, 5.5839, 7.0200, 8.9998]],\n",
       "\n",
       "        [[4.0000, 8.0000, 3.0000, 5.0000],\n",
       "         [8.8415, 0.5403, 7.0100, 1.9999],\n",
       "         [9.9093, 1.5839, 3.0200, 6.9998]]])"
      ]
     },
     "execution_count": 10,
     "metadata": {},
     "output_type": "execute_result"
    }
   ],
   "source": [
    "x = t1 + positional_encoding\n",
    "x"
   ]
  },
  {
   "cell_type": "code",
   "execution_count": 12,
   "metadata": {},
   "outputs": [
    {
     "data": {
      "text/plain": [
       "tensor([[[ 5.5556, 10.0000,  5.5556,  1.1111],\n",
       "         [10.9350,  8.3781,  5.5667,  7.7777],\n",
       "         [ 1.0103,  0.0000,  7.8000,  9.9998]],\n",
       "\n",
       "        [[ 4.4444,  8.8889,  0.0000,  5.5556],\n",
       "         [ 9.8239,  0.6003,  7.7889,  2.2222],\n",
       "         [ 0.0000,  1.7598,  3.3556,  7.7776]]])"
      ]
     },
     "execution_count": 12,
     "metadata": {},
     "output_type": "execute_result"
    }
   ],
   "source": [
    "y = F.dropout(x, p=0.1)\n",
    "y"
   ]
  },
  {
   "cell_type": "code",
   "execution_count": 13,
   "metadata": {},
   "outputs": [
    {
     "data": {
      "text/plain": [
       "tensor([[[ 0.0858,  1.3174,  0.0858, -1.1459],\n",
       "         [ 1.5766,  0.8680,  0.0888,  0.7016],\n",
       "         [-1.1739, -1.4539,  0.7078,  1.3174]],\n",
       "\n",
       "        [[-0.2222,  1.0095, -1.4539,  0.0858],\n",
       "         [ 1.2686, -1.2875,  0.7047, -0.8380],\n",
       "         [-1.4539, -0.9662, -0.5239,  0.7015]]])"
      ]
     },
     "execution_count": 13,
     "metadata": {},
     "output_type": "execute_result"
    }
   ],
   "source": [
    "F.layer_norm(y, normalized_shape=x.shape)"
   ]
  },
  {
   "cell_type": "code",
   "execution_count": 3,
   "metadata": {},
   "outputs": [
    {
     "data": {
      "text/plain": [
       "tensor([[19, 11, 20, 11],\n",
       "        [ 9, 13, 11, 14]])"
      ]
     },
     "execution_count": 3,
     "metadata": {},
     "output_type": "execute_result"
    }
   ],
   "source": [
    "torch.sum(t, 0)"
   ]
  },
  {
   "cell_type": "code",
   "execution_count": 1,
   "metadata": {},
   "outputs": [
    {
     "name": "stdout",
     "output_type": "stream",
     "text": [
      "{'x': 2, 'y': 3}\n",
      "{'p': 1, 'x': 2, 'y': 3}\n"
     ]
    }
   ],
   "source": [
    "n = {\n",
    "    'x' : 2,\n",
    "    'y' : 3\n",
    "}\n",
    "m = {\n",
    "    'p' : 1,\n",
    "    **n\n",
    "}\n",
    "\n",
    "print(n)\n",
    "print(m)"
   ]
  },
  {
   "cell_type": "code",
   "execution_count": 25,
   "metadata": {},
   "outputs": [
    {
     "data": {
      "text/plain": [
       "y\n",
       "0    125311\n",
       "1    321689\n",
       "dtype: int64"
      ]
     },
     "execution_count": 25,
     "metadata": {},
     "output_type": "execute_result"
    }
   ],
   "source": [
    "import pandas as pd\n",
    "\n",
    "df = pd.read_csv('data/quarter_processed_weighted_2000_9/cov_train.csv')\n",
    "df.groupby('y').size()"
   ]
  },
  {
   "cell_type": "code",
   "execution_count": 1,
   "metadata": {},
   "outputs": [],
   "source": [
    "import pandas as pd\n",
    "import sys\n",
    "import h5py\n",
    "import numpy as np"
   ]
  },
  {
   "cell_type": "code",
   "execution_count": 4,
   "metadata": {},
   "outputs": [
    {
     "name": "stdout",
     "output_type": "stream",
     "text": [
      "data/ProT5_model_embeddings/0.csv\n",
      "(50000, 1025)\n",
      "data/ProT5_model_embeddings/1.csv\n",
      "(50000, 1025)\n",
      "data/ProT5_model_embeddings/2.csv\n",
      "(50000, 1025)\n",
      "data/ProT5_model_embeddings/3.csv\n",
      "(50000, 1025)\n",
      "data/ProT5_model_embeddings/4.csv\n",
      "(50000, 1025)\n",
      "data/ProT5_model_embeddings/5.csv\n",
      "(50000, 1025)\n",
      "data/ProT5_model_embeddings/6.csv\n",
      "(50000, 1025)\n",
      "data/ProT5_model_embeddings/7.csv\n",
      "(36000, 1025)\n"
     ]
    }
   ],
   "source": [
    "n = 25\n",
    "\n",
    "for i in range(0, 193):\n",
    "  if i%n == 0:\n",
    "    key = []\n",
    "    cols = [i for i in range(1024)]\n",
    "    df = pd.DataFrame(columns=cols)\n",
    "    csv_path = f'data/ProT5_model_embeddings/{i//n}.csv'\n",
    "    print(csv_path)\n",
    "\n",
    "  fpath = f'data/ProT5_model_embeddings/per_protein_embeddings_{i}.h5'\n",
    "\n",
    "  hf = h5py.File(fpath, 'r')\n",
    "\n",
    "  keys = list(hf.keys())\n",
    "\n",
    "  for k in keys:\n",
    "    arr = np.array(hf[k])\n",
    "    df2 = pd.DataFrame(arr.reshape(1, -1), columns=cols)\n",
    "    df = pd.concat([df, df2])\n",
    "    key.append(k)\n",
    "\n",
    "  if i%n == n-1 or i == 192:\n",
    "    k_s = pd.Series(key)\n",
    "    df.insert(loc=0, column='Accession ID', value=k_s)\n",
    "    print(df.shape)\n",
    "    df.to_csv(csv_path)"
   ]
  },
  {
   "cell_type": "code",
   "execution_count": 11,
   "metadata": {},
   "outputs": [
    {
     "data": {
      "text/plain": [
       "(386000, 1026)"
      ]
     },
     "execution_count": 11,
     "metadata": {},
     "output_type": "execute_result"
    }
   ],
   "source": [
    "df = pd.read_csv('data/ProT5_model_embeddings/0.csv')\n",
    "\n",
    "for i in range(1, 8):\n",
    "    path = f'data/ProT5_model_embeddings/{i}.csv'\n",
    "    df1 = pd.read_csv(path, index_col=[0])\n",
    "    df = pd.concat([df, df1])\n",
    "\n",
    "df.shape"
   ]
  },
  {
   "cell_type": "code",
   "execution_count": 17,
   "metadata": {},
   "outputs": [
    {
     "ename": "KeyError",
     "evalue": "\"['Unnamed: 0'] not found in axis\"",
     "output_type": "error",
     "traceback": [
      "\u001b[0;31m---------------------------------------------------------------------------\u001b[0m",
      "\u001b[0;31mKeyError\u001b[0m                                  Traceback (most recent call last)",
      "Cell \u001b[0;32mIn [17], line 1\u001b[0m\n\u001b[0;32m----> 1\u001b[0m df\u001b[39m.\u001b[39;49mdrop([\u001b[39m'\u001b[39;49m\u001b[39mUnnamed: 0\u001b[39;49m\u001b[39m'\u001b[39;49m], axis\u001b[39m=\u001b[39;49m\u001b[39m1\u001b[39;49m, inplace\u001b[39m=\u001b[39;49m\u001b[39mTrue\u001b[39;49;00m)\n",
      "File \u001b[0;32m~/anaconda3/envs/tempel_cov/lib/python3.10/site-packages/pandas/util/_decorators.py:311\u001b[0m, in \u001b[0;36mdeprecate_nonkeyword_arguments.<locals>.decorate.<locals>.wrapper\u001b[0;34m(*args, **kwargs)\u001b[0m\n\u001b[1;32m    305\u001b[0m \u001b[39mif\u001b[39;00m \u001b[39mlen\u001b[39m(args) \u001b[39m>\u001b[39m num_allow_args:\n\u001b[1;32m    306\u001b[0m     warnings\u001b[39m.\u001b[39mwarn(\n\u001b[1;32m    307\u001b[0m         msg\u001b[39m.\u001b[39mformat(arguments\u001b[39m=\u001b[39marguments),\n\u001b[1;32m    308\u001b[0m         \u001b[39mFutureWarning\u001b[39;00m,\n\u001b[1;32m    309\u001b[0m         stacklevel\u001b[39m=\u001b[39mstacklevel,\n\u001b[1;32m    310\u001b[0m     )\n\u001b[0;32m--> 311\u001b[0m \u001b[39mreturn\u001b[39;00m func(\u001b[39m*\u001b[39;49margs, \u001b[39m*\u001b[39;49m\u001b[39m*\u001b[39;49mkwargs)\n",
      "File \u001b[0;32m~/anaconda3/envs/tempel_cov/lib/python3.10/site-packages/pandas/core/frame.py:4957\u001b[0m, in \u001b[0;36mDataFrame.drop\u001b[0;34m(self, labels, axis, index, columns, level, inplace, errors)\u001b[0m\n\u001b[1;32m   4809\u001b[0m \u001b[39m@deprecate_nonkeyword_arguments\u001b[39m(version\u001b[39m=\u001b[39m\u001b[39mNone\u001b[39;00m, allowed_args\u001b[39m=\u001b[39m[\u001b[39m\"\u001b[39m\u001b[39mself\u001b[39m\u001b[39m\"\u001b[39m, \u001b[39m\"\u001b[39m\u001b[39mlabels\u001b[39m\u001b[39m\"\u001b[39m])\n\u001b[1;32m   4810\u001b[0m \u001b[39mdef\u001b[39;00m \u001b[39mdrop\u001b[39m(\n\u001b[1;32m   4811\u001b[0m     \u001b[39mself\u001b[39m,\n\u001b[0;32m   (...)\u001b[0m\n\u001b[1;32m   4818\u001b[0m     errors: \u001b[39mstr\u001b[39m \u001b[39m=\u001b[39m \u001b[39m\"\u001b[39m\u001b[39mraise\u001b[39m\u001b[39m\"\u001b[39m,\n\u001b[1;32m   4819\u001b[0m ):\n\u001b[1;32m   4820\u001b[0m     \u001b[39m\"\"\"\u001b[39;00m\n\u001b[1;32m   4821\u001b[0m \u001b[39m    Drop specified labels from rows or columns.\u001b[39;00m\n\u001b[1;32m   4822\u001b[0m \n\u001b[0;32m   (...)\u001b[0m\n\u001b[1;32m   4955\u001b[0m \u001b[39m            weight  1.0     0.8\u001b[39;00m\n\u001b[1;32m   4956\u001b[0m \u001b[39m    \"\"\"\u001b[39;00m\n\u001b[0;32m-> 4957\u001b[0m     \u001b[39mreturn\u001b[39;00m \u001b[39msuper\u001b[39;49m()\u001b[39m.\u001b[39;49mdrop(\n\u001b[1;32m   4958\u001b[0m         labels\u001b[39m=\u001b[39;49mlabels,\n\u001b[1;32m   4959\u001b[0m         axis\u001b[39m=\u001b[39;49maxis,\n\u001b[1;32m   4960\u001b[0m         index\u001b[39m=\u001b[39;49mindex,\n\u001b[1;32m   4961\u001b[0m         columns\u001b[39m=\u001b[39;49mcolumns,\n\u001b[1;32m   4962\u001b[0m         level\u001b[39m=\u001b[39;49mlevel,\n\u001b[1;32m   4963\u001b[0m         inplace\u001b[39m=\u001b[39;49minplace,\n\u001b[1;32m   4964\u001b[0m         errors\u001b[39m=\u001b[39;49merrors,\n\u001b[1;32m   4965\u001b[0m     )\n",
      "File \u001b[0;32m~/anaconda3/envs/tempel_cov/lib/python3.10/site-packages/pandas/core/generic.py:4267\u001b[0m, in \u001b[0;36mNDFrame.drop\u001b[0;34m(self, labels, axis, index, columns, level, inplace, errors)\u001b[0m\n\u001b[1;32m   4265\u001b[0m \u001b[39mfor\u001b[39;00m axis, labels \u001b[39min\u001b[39;00m axes\u001b[39m.\u001b[39mitems():\n\u001b[1;32m   4266\u001b[0m     \u001b[39mif\u001b[39;00m labels \u001b[39mis\u001b[39;00m \u001b[39mnot\u001b[39;00m \u001b[39mNone\u001b[39;00m:\n\u001b[0;32m-> 4267\u001b[0m         obj \u001b[39m=\u001b[39m obj\u001b[39m.\u001b[39;49m_drop_axis(labels, axis, level\u001b[39m=\u001b[39;49mlevel, errors\u001b[39m=\u001b[39;49merrors)\n\u001b[1;32m   4269\u001b[0m \u001b[39mif\u001b[39;00m inplace:\n\u001b[1;32m   4270\u001b[0m     \u001b[39mself\u001b[39m\u001b[39m.\u001b[39m_update_inplace(obj)\n",
      "File \u001b[0;32m~/anaconda3/envs/tempel_cov/lib/python3.10/site-packages/pandas/core/generic.py:4311\u001b[0m, in \u001b[0;36mNDFrame._drop_axis\u001b[0;34m(self, labels, axis, level, errors, consolidate, only_slice)\u001b[0m\n\u001b[1;32m   4309\u001b[0m         new_axis \u001b[39m=\u001b[39m axis\u001b[39m.\u001b[39mdrop(labels, level\u001b[39m=\u001b[39mlevel, errors\u001b[39m=\u001b[39merrors)\n\u001b[1;32m   4310\u001b[0m     \u001b[39melse\u001b[39;00m:\n\u001b[0;32m-> 4311\u001b[0m         new_axis \u001b[39m=\u001b[39m axis\u001b[39m.\u001b[39;49mdrop(labels, errors\u001b[39m=\u001b[39;49merrors)\n\u001b[1;32m   4312\u001b[0m     indexer \u001b[39m=\u001b[39m axis\u001b[39m.\u001b[39mget_indexer(new_axis)\n\u001b[1;32m   4314\u001b[0m \u001b[39m# Case for non-unique axis\u001b[39;00m\n\u001b[1;32m   4315\u001b[0m \u001b[39melse\u001b[39;00m:\n",
      "File \u001b[0;32m~/anaconda3/envs/tempel_cov/lib/python3.10/site-packages/pandas/core/indexes/base.py:6661\u001b[0m, in \u001b[0;36mIndex.drop\u001b[0;34m(self, labels, errors)\u001b[0m\n\u001b[1;32m   6659\u001b[0m \u001b[39mif\u001b[39;00m mask\u001b[39m.\u001b[39many():\n\u001b[1;32m   6660\u001b[0m     \u001b[39mif\u001b[39;00m errors \u001b[39m!=\u001b[39m \u001b[39m\"\u001b[39m\u001b[39mignore\u001b[39m\u001b[39m\"\u001b[39m:\n\u001b[0;32m-> 6661\u001b[0m         \u001b[39mraise\u001b[39;00m \u001b[39mKeyError\u001b[39;00m(\u001b[39mf\u001b[39m\u001b[39m\"\u001b[39m\u001b[39m{\u001b[39;00m\u001b[39mlist\u001b[39m(labels[mask])\u001b[39m}\u001b[39;00m\u001b[39m not found in axis\u001b[39m\u001b[39m\"\u001b[39m)\n\u001b[1;32m   6662\u001b[0m     indexer \u001b[39m=\u001b[39m indexer[\u001b[39m~\u001b[39mmask]\n\u001b[1;32m   6663\u001b[0m \u001b[39mreturn\u001b[39;00m \u001b[39mself\u001b[39m\u001b[39m.\u001b[39mdelete(indexer)\n",
      "\u001b[0;31mKeyError\u001b[0m: \"['Unnamed: 0'] not found in axis\""
     ]
    }
   ],
   "source": [
    "df.drop(['Unnamed: 0'], axis=1, inplace=True)"
   ]
  },
  {
   "cell_type": "code",
   "execution_count": 19,
   "metadata": {},
   "outputs": [],
   "source": [
    "df.to_csv('data/ProT5_model_embeddings/Q2_2022.csv', index=False)"
   ]
  },
  {
   "cell_type": "code",
   "execution_count": 18,
   "metadata": {},
   "outputs": [
    {
     "data": {
      "text/plain": [
       "Index(['Accession ID', '0', '1', '2', '3', '4', '5', '6', '7', '8',\n",
       "       ...\n",
       "       '1014', '1015', '1016', '1017', '1018', '1019', '1020', '1021', '1022',\n",
       "       '1023'],\n",
       "      dtype='object', length=1025)"
      ]
     },
     "execution_count": 18,
     "metadata": {},
     "output_type": "execute_result"
    }
   ],
   "source": [
    "df.columns"
   ]
  },
  {
   "cell_type": "code",
   "execution_count": 20,
   "metadata": {},
   "outputs": [
    {
     "data": {
      "text/html": [
       "<div>\n",
       "<style scoped>\n",
       "    .dataframe tbody tr th:only-of-type {\n",
       "        vertical-align: middle;\n",
       "    }\n",
       "\n",
       "    .dataframe tbody tr th {\n",
       "        vertical-align: top;\n",
       "    }\n",
       "\n",
       "    .dataframe thead th {\n",
       "        text-align: right;\n",
       "    }\n",
       "</style>\n",
       "<table border=\"1\" class=\"dataframe\">\n",
       "  <thead>\n",
       "    <tr style=\"text-align: right;\">\n",
       "      <th></th>\n",
       "      <th>Accession ID</th>\n",
       "      <th>0</th>\n",
       "      <th>1</th>\n",
       "      <th>2</th>\n",
       "      <th>3</th>\n",
       "      <th>4</th>\n",
       "      <th>5</th>\n",
       "      <th>6</th>\n",
       "      <th>7</th>\n",
       "      <th>8</th>\n",
       "      <th>...</th>\n",
       "      <th>1014</th>\n",
       "      <th>1015</th>\n",
       "      <th>1016</th>\n",
       "      <th>1017</th>\n",
       "      <th>1018</th>\n",
       "      <th>1019</th>\n",
       "      <th>1020</th>\n",
       "      <th>1021</th>\n",
       "      <th>1022</th>\n",
       "      <th>1023</th>\n",
       "    </tr>\n",
       "  </thead>\n",
       "  <tbody>\n",
       "    <tr>\n",
       "      <th>0</th>\n",
       "      <td>EPI_ISL_11749529</td>\n",
       "      <td>-0.02092</td>\n",
       "      <td>0.04140</td>\n",
       "      <td>0.000757</td>\n",
       "      <td>-0.03930</td>\n",
       "      <td>-0.009090</td>\n",
       "      <td>0.02786</td>\n",
       "      <td>-0.06620</td>\n",
       "      <td>0.008415</td>\n",
       "      <td>0.04984</td>\n",
       "      <td>...</td>\n",
       "      <td>-0.02983</td>\n",
       "      <td>0.002409</td>\n",
       "      <td>0.04324</td>\n",
       "      <td>-0.04712</td>\n",
       "      <td>-0.012640</td>\n",
       "      <td>0.1606</td>\n",
       "      <td>0.01826</td>\n",
       "      <td>-0.000429</td>\n",
       "      <td>-0.00827</td>\n",
       "      <td>-0.05280</td>\n",
       "    </tr>\n",
       "    <tr>\n",
       "      <th>1</th>\n",
       "      <td>EPI_ISL_11749529</td>\n",
       "      <td>-0.01512</td>\n",
       "      <td>0.05533</td>\n",
       "      <td>0.010340</td>\n",
       "      <td>-0.03717</td>\n",
       "      <td>-0.000308</td>\n",
       "      <td>0.03119</td>\n",
       "      <td>-0.06750</td>\n",
       "      <td>0.007187</td>\n",
       "      <td>0.05167</td>\n",
       "      <td>...</td>\n",
       "      <td>-0.03102</td>\n",
       "      <td>0.003906</td>\n",
       "      <td>0.04657</td>\n",
       "      <td>-0.03910</td>\n",
       "      <td>0.000709</td>\n",
       "      <td>0.1543</td>\n",
       "      <td>0.01007</td>\n",
       "      <td>0.001760</td>\n",
       "      <td>-0.01883</td>\n",
       "      <td>-0.04706</td>\n",
       "    </tr>\n",
       "    <tr>\n",
       "      <th>2</th>\n",
       "      <td>EPI_ISL_11749529</td>\n",
       "      <td>-0.02045</td>\n",
       "      <td>0.04132</td>\n",
       "      <td>0.000376</td>\n",
       "      <td>-0.03897</td>\n",
       "      <td>-0.008640</td>\n",
       "      <td>0.02788</td>\n",
       "      <td>-0.06635</td>\n",
       "      <td>0.008980</td>\n",
       "      <td>0.05060</td>\n",
       "      <td>...</td>\n",
       "      <td>-0.02965</td>\n",
       "      <td>0.002476</td>\n",
       "      <td>0.04318</td>\n",
       "      <td>-0.04678</td>\n",
       "      <td>-0.012200</td>\n",
       "      <td>0.1602</td>\n",
       "      <td>0.01862</td>\n",
       "      <td>-0.000600</td>\n",
       "      <td>-0.00864</td>\n",
       "      <td>-0.05304</td>\n",
       "    </tr>\n",
       "    <tr>\n",
       "      <th>3</th>\n",
       "      <td>EPI_ISL_11749529</td>\n",
       "      <td>-0.01880</td>\n",
       "      <td>0.04860</td>\n",
       "      <td>0.004913</td>\n",
       "      <td>-0.03702</td>\n",
       "      <td>-0.002352</td>\n",
       "      <td>0.02763</td>\n",
       "      <td>-0.06537</td>\n",
       "      <td>0.006250</td>\n",
       "      <td>0.05023</td>\n",
       "      <td>...</td>\n",
       "      <td>-0.02829</td>\n",
       "      <td>-0.000146</td>\n",
       "      <td>0.04825</td>\n",
       "      <td>-0.04153</td>\n",
       "      <td>-0.000274</td>\n",
       "      <td>0.1500</td>\n",
       "      <td>0.01404</td>\n",
       "      <td>0.002258</td>\n",
       "      <td>-0.01341</td>\n",
       "      <td>-0.05103</td>\n",
       "    </tr>\n",
       "    <tr>\n",
       "      <th>4</th>\n",
       "      <td>EPI_ISL_11749529</td>\n",
       "      <td>-0.02045</td>\n",
       "      <td>0.04132</td>\n",
       "      <td>0.000373</td>\n",
       "      <td>-0.03894</td>\n",
       "      <td>-0.008620</td>\n",
       "      <td>0.02788</td>\n",
       "      <td>-0.06635</td>\n",
       "      <td>0.008980</td>\n",
       "      <td>0.05060</td>\n",
       "      <td>...</td>\n",
       "      <td>-0.02963</td>\n",
       "      <td>0.002472</td>\n",
       "      <td>0.04318</td>\n",
       "      <td>-0.04675</td>\n",
       "      <td>-0.012184</td>\n",
       "      <td>0.1602</td>\n",
       "      <td>0.01860</td>\n",
       "      <td>-0.000592</td>\n",
       "      <td>-0.00866</td>\n",
       "      <td>-0.05304</td>\n",
       "    </tr>\n",
       "    <tr>\n",
       "      <th>...</th>\n",
       "      <td>...</td>\n",
       "      <td>...</td>\n",
       "      <td>...</td>\n",
       "      <td>...</td>\n",
       "      <td>...</td>\n",
       "      <td>...</td>\n",
       "      <td>...</td>\n",
       "      <td>...</td>\n",
       "      <td>...</td>\n",
       "      <td>...</td>\n",
       "      <td>...</td>\n",
       "      <td>...</td>\n",
       "      <td>...</td>\n",
       "      <td>...</td>\n",
       "      <td>...</td>\n",
       "      <td>...</td>\n",
       "      <td>...</td>\n",
       "      <td>...</td>\n",
       "      <td>...</td>\n",
       "      <td>...</td>\n",
       "      <td>...</td>\n",
       "    </tr>\n",
       "    <tr>\n",
       "      <th>95</th>\n",
       "      <td>EPI_ISL_11749529</td>\n",
       "      <td>-0.02045</td>\n",
       "      <td>0.04132</td>\n",
       "      <td>0.000373</td>\n",
       "      <td>-0.03894</td>\n",
       "      <td>-0.008620</td>\n",
       "      <td>0.02788</td>\n",
       "      <td>-0.06635</td>\n",
       "      <td>0.008980</td>\n",
       "      <td>0.05060</td>\n",
       "      <td>...</td>\n",
       "      <td>-0.02963</td>\n",
       "      <td>0.002472</td>\n",
       "      <td>0.04318</td>\n",
       "      <td>-0.04675</td>\n",
       "      <td>-0.012184</td>\n",
       "      <td>0.1602</td>\n",
       "      <td>0.01860</td>\n",
       "      <td>-0.000592</td>\n",
       "      <td>-0.00866</td>\n",
       "      <td>-0.05304</td>\n",
       "    </tr>\n",
       "    <tr>\n",
       "      <th>96</th>\n",
       "      <td>EPI_ISL_11749529</td>\n",
       "      <td>-0.02045</td>\n",
       "      <td>0.04132</td>\n",
       "      <td>0.000373</td>\n",
       "      <td>-0.03894</td>\n",
       "      <td>-0.008620</td>\n",
       "      <td>0.02788</td>\n",
       "      <td>-0.06635</td>\n",
       "      <td>0.008980</td>\n",
       "      <td>0.05060</td>\n",
       "      <td>...</td>\n",
       "      <td>-0.02963</td>\n",
       "      <td>0.002472</td>\n",
       "      <td>0.04318</td>\n",
       "      <td>-0.04675</td>\n",
       "      <td>-0.012184</td>\n",
       "      <td>0.1602</td>\n",
       "      <td>0.01860</td>\n",
       "      <td>-0.000592</td>\n",
       "      <td>-0.00866</td>\n",
       "      <td>-0.05304</td>\n",
       "    </tr>\n",
       "    <tr>\n",
       "      <th>97</th>\n",
       "      <td>EPI_ISL_11749529</td>\n",
       "      <td>-0.02045</td>\n",
       "      <td>0.04132</td>\n",
       "      <td>0.000373</td>\n",
       "      <td>-0.03894</td>\n",
       "      <td>-0.008620</td>\n",
       "      <td>0.02788</td>\n",
       "      <td>-0.06635</td>\n",
       "      <td>0.008980</td>\n",
       "      <td>0.05060</td>\n",
       "      <td>...</td>\n",
       "      <td>-0.02963</td>\n",
       "      <td>0.002472</td>\n",
       "      <td>0.04318</td>\n",
       "      <td>-0.04675</td>\n",
       "      <td>-0.012184</td>\n",
       "      <td>0.1602</td>\n",
       "      <td>0.01860</td>\n",
       "      <td>-0.000592</td>\n",
       "      <td>-0.00866</td>\n",
       "      <td>-0.05304</td>\n",
       "    </tr>\n",
       "    <tr>\n",
       "      <th>98</th>\n",
       "      <td>EPI_ISL_11749529</td>\n",
       "      <td>-0.02113</td>\n",
       "      <td>0.04312</td>\n",
       "      <td>0.001872</td>\n",
       "      <td>-0.03920</td>\n",
       "      <td>-0.009940</td>\n",
       "      <td>0.02846</td>\n",
       "      <td>-0.06710</td>\n",
       "      <td>0.008120</td>\n",
       "      <td>0.05038</td>\n",
       "      <td>...</td>\n",
       "      <td>-0.02814</td>\n",
       "      <td>0.001566</td>\n",
       "      <td>0.04340</td>\n",
       "      <td>-0.04596</td>\n",
       "      <td>-0.012650</td>\n",
       "      <td>0.1593</td>\n",
       "      <td>0.01840</td>\n",
       "      <td>-0.001138</td>\n",
       "      <td>-0.00987</td>\n",
       "      <td>-0.05173</td>\n",
       "    </tr>\n",
       "    <tr>\n",
       "      <th>99</th>\n",
       "      <td>EPI_ISL_11749529</td>\n",
       "      <td>-0.02045</td>\n",
       "      <td>0.04132</td>\n",
       "      <td>0.000373</td>\n",
       "      <td>-0.03894</td>\n",
       "      <td>-0.008620</td>\n",
       "      <td>0.02788</td>\n",
       "      <td>-0.06635</td>\n",
       "      <td>0.008980</td>\n",
       "      <td>0.05060</td>\n",
       "      <td>...</td>\n",
       "      <td>-0.02963</td>\n",
       "      <td>0.002472</td>\n",
       "      <td>0.04318</td>\n",
       "      <td>-0.04675</td>\n",
       "      <td>-0.012184</td>\n",
       "      <td>0.1602</td>\n",
       "      <td>0.01860</td>\n",
       "      <td>-0.000592</td>\n",
       "      <td>-0.00866</td>\n",
       "      <td>-0.05304</td>\n",
       "    </tr>\n",
       "  </tbody>\n",
       "</table>\n",
       "<p>100 rows × 1025 columns</p>\n",
       "</div>"
      ],
      "text/plain": [
       "        Accession ID        0        1         2        3         4        5  \\\n",
       "0   EPI_ISL_11749529 -0.02092  0.04140  0.000757 -0.03930 -0.009090  0.02786   \n",
       "1   EPI_ISL_11749529 -0.01512  0.05533  0.010340 -0.03717 -0.000308  0.03119   \n",
       "2   EPI_ISL_11749529 -0.02045  0.04132  0.000376 -0.03897 -0.008640  0.02788   \n",
       "3   EPI_ISL_11749529 -0.01880  0.04860  0.004913 -0.03702 -0.002352  0.02763   \n",
       "4   EPI_ISL_11749529 -0.02045  0.04132  0.000373 -0.03894 -0.008620  0.02788   \n",
       "..               ...      ...      ...       ...      ...       ...      ...   \n",
       "95  EPI_ISL_11749529 -0.02045  0.04132  0.000373 -0.03894 -0.008620  0.02788   \n",
       "96  EPI_ISL_11749529 -0.02045  0.04132  0.000373 -0.03894 -0.008620  0.02788   \n",
       "97  EPI_ISL_11749529 -0.02045  0.04132  0.000373 -0.03894 -0.008620  0.02788   \n",
       "98  EPI_ISL_11749529 -0.02113  0.04312  0.001872 -0.03920 -0.009940  0.02846   \n",
       "99  EPI_ISL_11749529 -0.02045  0.04132  0.000373 -0.03894 -0.008620  0.02788   \n",
       "\n",
       "          6         7        8  ...     1014      1015     1016     1017  \\\n",
       "0  -0.06620  0.008415  0.04984  ... -0.02983  0.002409  0.04324 -0.04712   \n",
       "1  -0.06750  0.007187  0.05167  ... -0.03102  0.003906  0.04657 -0.03910   \n",
       "2  -0.06635  0.008980  0.05060  ... -0.02965  0.002476  0.04318 -0.04678   \n",
       "3  -0.06537  0.006250  0.05023  ... -0.02829 -0.000146  0.04825 -0.04153   \n",
       "4  -0.06635  0.008980  0.05060  ... -0.02963  0.002472  0.04318 -0.04675   \n",
       "..      ...       ...      ...  ...      ...       ...      ...      ...   \n",
       "95 -0.06635  0.008980  0.05060  ... -0.02963  0.002472  0.04318 -0.04675   \n",
       "96 -0.06635  0.008980  0.05060  ... -0.02963  0.002472  0.04318 -0.04675   \n",
       "97 -0.06635  0.008980  0.05060  ... -0.02963  0.002472  0.04318 -0.04675   \n",
       "98 -0.06710  0.008120  0.05038  ... -0.02814  0.001566  0.04340 -0.04596   \n",
       "99 -0.06635  0.008980  0.05060  ... -0.02963  0.002472  0.04318 -0.04675   \n",
       "\n",
       "        1018    1019     1020      1021     1022     1023  \n",
       "0  -0.012640  0.1606  0.01826 -0.000429 -0.00827 -0.05280  \n",
       "1   0.000709  0.1543  0.01007  0.001760 -0.01883 -0.04706  \n",
       "2  -0.012200  0.1602  0.01862 -0.000600 -0.00864 -0.05304  \n",
       "3  -0.000274  0.1500  0.01404  0.002258 -0.01341 -0.05103  \n",
       "4  -0.012184  0.1602  0.01860 -0.000592 -0.00866 -0.05304  \n",
       "..       ...     ...      ...       ...      ...      ...  \n",
       "95 -0.012184  0.1602  0.01860 -0.000592 -0.00866 -0.05304  \n",
       "96 -0.012184  0.1602  0.01860 -0.000592 -0.00866 -0.05304  \n",
       "97 -0.012184  0.1602  0.01860 -0.000592 -0.00866 -0.05304  \n",
       "98 -0.012650  0.1593  0.01840 -0.001138 -0.00987 -0.05173  \n",
       "99 -0.012184  0.1602  0.01860 -0.000592 -0.00866 -0.05304  \n",
       "\n",
       "[100 rows x 1025 columns]"
      ]
     },
     "execution_count": 20,
     "metadata": {},
     "output_type": "execute_result"
    }
   ],
   "source": [
    "df.head(100)"
   ]
  },
  {
   "cell_type": "code",
   "execution_count": 21,
   "metadata": {},
   "outputs": [
    {
     "data": {
      "text/html": [
       "<div>\n",
       "<style scoped>\n",
       "    .dataframe tbody tr th:only-of-type {\n",
       "        vertical-align: middle;\n",
       "    }\n",
       "\n",
       "    .dataframe tbody tr th {\n",
       "        vertical-align: top;\n",
       "    }\n",
       "\n",
       "    .dataframe thead th {\n",
       "        text-align: right;\n",
       "    }\n",
       "</style>\n",
       "<table border=\"1\" class=\"dataframe\">\n",
       "  <thead>\n",
       "    <tr style=\"text-align: right;\">\n",
       "      <th></th>\n",
       "      <th>Unnamed: 0</th>\n",
       "      <th>ID</th>\n",
       "      <th>Sequence</th>\n",
       "    </tr>\n",
       "  </thead>\n",
       "  <tbody>\n",
       "    <tr>\n",
       "      <th>0</th>\n",
       "      <td>0</td>\n",
       "      <td>EPI_ISL_11635363</td>\n",
       "      <td>MFVFLVLLPLVSSQCVNLITRTQSYTNSFTRGVYYPDKVFRSSVLH...</td>\n",
       "    </tr>\n",
       "    <tr>\n",
       "      <th>1</th>\n",
       "      <td>1</td>\n",
       "      <td>EPI_ISL_11635342</td>\n",
       "      <td>MFVFLVLLPLVSSQCVNLITRTQSYTNSFTRGVYYPDKVFRSSVLH...</td>\n",
       "    </tr>\n",
       "    <tr>\n",
       "      <th>2</th>\n",
       "      <td>2</td>\n",
       "      <td>EPI_ISL_11635391</td>\n",
       "      <td>MFVFLVLLPLVSSQCVNLITRTQSYTNSFTRGVYYPDKVFRSSVLH...</td>\n",
       "    </tr>\n",
       "    <tr>\n",
       "      <th>3</th>\n",
       "      <td>3</td>\n",
       "      <td>EPI_ISL_11635411</td>\n",
       "      <td>MFVFLVLLPLVSSQCVNLITRTQSYTNSFTRGVYYPDKVFRSSVLH...</td>\n",
       "    </tr>\n",
       "    <tr>\n",
       "      <th>4</th>\n",
       "      <td>4</td>\n",
       "      <td>EPI_ISL_11635413</td>\n",
       "      <td>MFVFLVLLPLVSSQCVNLITRTQSYTNSFTRGVYYPDKVFRSSVLH...</td>\n",
       "    </tr>\n",
       "    <tr>\n",
       "      <th>...</th>\n",
       "      <td>...</td>\n",
       "      <td>...</td>\n",
       "      <td>...</td>\n",
       "    </tr>\n",
       "    <tr>\n",
       "      <th>95</th>\n",
       "      <td>95</td>\n",
       "      <td>EPI_ISL_11635474</td>\n",
       "      <td>MFVFLVLLPLVSSQCVNLTTRTQLPPAYTNSFTRGVYYPDKVFRSS...</td>\n",
       "    </tr>\n",
       "    <tr>\n",
       "      <th>96</th>\n",
       "      <td>96</td>\n",
       "      <td>EPI_ISL_11635516</td>\n",
       "      <td>MFVFLVLLPLVSSQCVNLITRTQSYTNSFTRGVYYPDKVFRSSVLH...</td>\n",
       "    </tr>\n",
       "    <tr>\n",
       "      <th>97</th>\n",
       "      <td>97</td>\n",
       "      <td>EPI_ISL_11635478</td>\n",
       "      <td>MFVFLVLLPLVSSQCVNLITRTQSYTNSFTRGVYYPDKVFRSSVLH...</td>\n",
       "    </tr>\n",
       "    <tr>\n",
       "      <th>98</th>\n",
       "      <td>98</td>\n",
       "      <td>EPI_ISL_11635508</td>\n",
       "      <td>MFVFLVLLPLVSSQCVNLITRTQSYTNSFTRGVYYPDKVFRSSVLH...</td>\n",
       "    </tr>\n",
       "    <tr>\n",
       "      <th>99</th>\n",
       "      <td>99</td>\n",
       "      <td>EPI_ISL_11635510</td>\n",
       "      <td>MFVFLVLLPLVSSQCVNLITRTQSYTNSFTRGVYYPDKVFRSSVLH...</td>\n",
       "    </tr>\n",
       "  </tbody>\n",
       "</table>\n",
       "<p>100 rows × 3 columns</p>\n",
       "</div>"
      ],
      "text/plain": [
       "    Unnamed: 0                ID  \\\n",
       "0            0  EPI_ISL_11635363   \n",
       "1            1  EPI_ISL_11635342   \n",
       "2            2  EPI_ISL_11635391   \n",
       "3            3  EPI_ISL_11635411   \n",
       "4            4  EPI_ISL_11635413   \n",
       "..         ...               ...   \n",
       "95          95  EPI_ISL_11635474   \n",
       "96          96  EPI_ISL_11635516   \n",
       "97          97  EPI_ISL_11635478   \n",
       "98          98  EPI_ISL_11635508   \n",
       "99          99  EPI_ISL_11635510   \n",
       "\n",
       "                                             Sequence  \n",
       "0   MFVFLVLLPLVSSQCVNLITRTQSYTNSFTRGVYYPDKVFRSSVLH...  \n",
       "1   MFVFLVLLPLVSSQCVNLITRTQSYTNSFTRGVYYPDKVFRSSVLH...  \n",
       "2   MFVFLVLLPLVSSQCVNLITRTQSYTNSFTRGVYYPDKVFRSSVLH...  \n",
       "3   MFVFLVLLPLVSSQCVNLITRTQSYTNSFTRGVYYPDKVFRSSVLH...  \n",
       "4   MFVFLVLLPLVSSQCVNLITRTQSYTNSFTRGVYYPDKVFRSSVLH...  \n",
       "..                                                ...  \n",
       "95  MFVFLVLLPLVSSQCVNLTTRTQLPPAYTNSFTRGVYYPDKVFRSS...  \n",
       "96  MFVFLVLLPLVSSQCVNLITRTQSYTNSFTRGVYYPDKVFRSSVLH...  \n",
       "97  MFVFLVLLPLVSSQCVNLITRTQSYTNSFTRGVYYPDKVFRSSVLH...  \n",
       "98  MFVFLVLLPLVSSQCVNLITRTQSYTNSFTRGVYYPDKVFRSSVLH...  \n",
       "99  MFVFLVLLPLVSSQCVNLITRTQSYTNSFTRGVYYPDKVFRSSVLH...  \n",
       "\n",
       "[100 rows x 3 columns]"
      ]
     },
     "execution_count": 21,
     "metadata": {},
     "output_type": "execute_result"
    }
   ],
   "source": [
    "df1 = pd.read_csv('data/Q2 data/Q2.csv')\n",
    "df1.head(100)"
   ]
  },
  {
   "cell_type": "code",
   "execution_count": 4,
   "metadata": {},
   "outputs": [
    {
     "data": {
      "text/plain": [
       "dict_keys(['epoch', 'total_epoch', 'state_dict', 'optimizer', 'best_training_loss', 'best_val_loss'])"
      ]
     },
     "execution_count": 4,
     "metadata": {},
     "output_type": "execute_result"
    }
   ],
   "source": [
    "import torch\n",
    "\n",
    "param_dict = torch.load('checkpoint/6 (copy)/lstm4/best_model/checkpoint.pth')\n",
    "param_dict.keys()"
   ]
  },
  {
   "cell_type": "code",
   "execution_count": 6,
   "metadata": {},
   "outputs": [
    {
     "data": {
      "text/plain": [
       "odict_keys(['sum_weight_1', 'sum_weight_2', 'bn11.weight', 'bn11.bias', 'bn11.running_mean', 'bn11.running_var', 'bn11.num_batches_tracked', 'bn12.weight', 'bn12.bias', 'bn12.running_mean', 'bn12.running_var', 'bn12.num_batches_tracked', 'bn13.weight', 'bn13.bias', 'bn13.running_mean', 'bn13.running_var', 'bn13.num_batches_tracked', 'lstm11.weight_ih_l0', 'lstm11.weight_hh_l0', 'lstm11.bias_ih_l0', 'lstm11.bias_hh_l0', 'lstm11.weight_ih_l1', 'lstm11.weight_hh_l1', 'lstm11.bias_ih_l1', 'lstm11.bias_hh_l1', 'lstm11.weight_ih_l2', 'lstm11.weight_hh_l2', 'lstm11.bias_ih_l2', 'lstm11.bias_hh_l2', 'lstm11.weight_ih_l3', 'lstm11.weight_hh_l3', 'lstm11.bias_ih_l3', 'lstm11.bias_hh_l3', 'lstm12.weight_ih_l0', 'lstm12.weight_hh_l0', 'lstm12.bias_ih_l0', 'lstm12.bias_hh_l0', 'lstm12.weight_ih_l1', 'lstm12.weight_hh_l1', 'lstm12.bias_ih_l1', 'lstm12.bias_hh_l1', 'lstm12.weight_ih_l2', 'lstm12.weight_hh_l2', 'lstm12.bias_ih_l2', 'lstm12.bias_hh_l2', 'lstm12.weight_ih_l3', 'lstm12.weight_hh_l3', 'lstm12.bias_ih_l3', 'lstm12.bias_hh_l3', 'lstm13.weight_ih_l0', 'lstm13.weight_hh_l0', 'lstm13.bias_ih_l0', 'lstm13.bias_hh_l0', 'lstm13.weight_ih_l1', 'lstm13.weight_hh_l1', 'lstm13.bias_ih_l1', 'lstm13.bias_hh_l1', 'lstm13.weight_ih_l2', 'lstm13.weight_hh_l2', 'lstm13.bias_ih_l2', 'lstm13.bias_hh_l2', 'lstm13.weight_ih_l3', 'lstm13.weight_hh_l3', 'lstm13.bias_ih_l3', 'lstm13.bias_hh_l3', 'bn21.weight', 'bn21.bias', 'bn21.running_mean', 'bn21.running_var', 'bn21.num_batches_tracked', 'bn22.weight', 'bn22.bias', 'bn22.running_mean', 'bn22.running_var', 'bn22.num_batches_tracked', 'bn23.weight', 'bn23.bias', 'bn23.running_mean', 'bn23.running_var', 'bn23.num_batches_tracked', 'lstm21.weight_ih_l0', 'lstm21.weight_hh_l0', 'lstm21.bias_ih_l0', 'lstm21.bias_hh_l0', 'lstm21.weight_ih_l1', 'lstm21.weight_hh_l1', 'lstm21.bias_ih_l1', 'lstm21.bias_hh_l1', 'lstm21.weight_ih_l2', 'lstm21.weight_hh_l2', 'lstm21.bias_ih_l2', 'lstm21.bias_hh_l2', 'lstm21.weight_ih_l3', 'lstm21.weight_hh_l3', 'lstm21.bias_ih_l3', 'lstm21.bias_hh_l3', 'lstm22.weight_ih_l0', 'lstm22.weight_hh_l0', 'lstm22.bias_ih_l0', 'lstm22.bias_hh_l0', 'lstm22.weight_ih_l1', 'lstm22.weight_hh_l1', 'lstm22.bias_ih_l1', 'lstm22.bias_hh_l1', 'lstm22.weight_ih_l2', 'lstm22.weight_hh_l2', 'lstm22.bias_ih_l2', 'lstm22.bias_hh_l2', 'lstm22.weight_ih_l3', 'lstm22.weight_hh_l3', 'lstm22.bias_ih_l3', 'lstm22.bias_hh_l3', 'lstm23.weight_ih_l0', 'lstm23.weight_hh_l0', 'lstm23.bias_ih_l0', 'lstm23.bias_hh_l0', 'lstm23.weight_ih_l1', 'lstm23.weight_hh_l1', 'lstm23.bias_ih_l1', 'lstm23.bias_hh_l1', 'lstm23.weight_ih_l2', 'lstm23.weight_hh_l2', 'lstm23.bias_ih_l2', 'lstm23.bias_hh_l2', 'lstm23.weight_ih_l3', 'lstm23.weight_hh_l3', 'lstm23.bias_ih_l3', 'lstm23.bias_hh_l3', 'bn31.weight', 'bn31.bias', 'bn31.running_mean', 'bn31.running_var', 'bn31.num_batches_tracked', 'bn32.weight', 'bn32.bias', 'bn32.running_mean', 'bn32.running_var', 'bn32.num_batches_tracked', 'ma1.attention_weights', 'ma1.attention_scale', 'ma2.attention_weights', 'ma2.attention_scale', 'ae.encoder.0.attention_layer.attention_weights', 'ae.encoder.0.attention_layer.attention_scale', 'ae.encoder.0.norm1.weight', 'ae.encoder.0.norm1.bias', 'ae.encoder.0.norm2.weight', 'ae.encoder.0.norm2.bias', 'ae.encoder.0.ff.0.weight', 'ae.encoder.0.ff.0.bias', 'ae.encoder.0.ff.3.weight', 'ae.encoder.0.ff.3.bias', 'ae.encoder.1.attention_layer.attention_weights', 'ae.encoder.1.attention_layer.attention_scale', 'ae.encoder.1.norm1.weight', 'ae.encoder.1.norm1.bias', 'ae.encoder.1.norm2.weight', 'ae.encoder.1.norm2.bias', 'ae.encoder.1.ff.0.weight', 'ae.encoder.1.ff.0.bias', 'ae.encoder.1.ff.3.weight', 'ae.encoder.1.ff.3.bias', 'ae.encoder.2.attention_layer.attention_weights', 'ae.encoder.2.attention_layer.attention_scale', 'ae.encoder.2.norm1.weight', 'ae.encoder.2.norm1.bias', 'ae.encoder.2.norm2.weight', 'ae.encoder.2.norm2.bias', 'ae.encoder.2.ff.0.weight', 'ae.encoder.2.ff.0.bias', 'ae.encoder.2.ff.3.weight', 'ae.encoder.2.ff.3.bias', 'ae.encoder.3.attention_layer.attention_weights', 'ae.encoder.3.attention_layer.attention_scale', 'ae.encoder.3.norm1.weight', 'ae.encoder.3.norm1.bias', 'ae.encoder.3.norm2.weight', 'ae.encoder.3.norm2.bias', 'ae.encoder.3.ff.0.weight', 'ae.encoder.3.ff.0.bias', 'ae.encoder.3.ff.3.weight', 'ae.encoder.3.ff.3.bias', 'ae.encoder.4.attention_layer.attention_weights', 'ae.encoder.4.attention_layer.attention_scale', 'ae.encoder.4.norm1.weight', 'ae.encoder.4.norm1.bias', 'ae.encoder.4.norm2.weight', 'ae.encoder.4.norm2.bias', 'ae.encoder.4.ff.0.weight', 'ae.encoder.4.ff.0.bias', 'ae.encoder.4.ff.3.weight', 'ae.encoder.4.ff.3.bias', 'ae.encoder.5.attention_layer.attention_weights', 'ae.encoder.5.attention_layer.attention_scale', 'ae.encoder.5.norm1.weight', 'ae.encoder.5.norm1.bias', 'ae.encoder.5.norm2.weight', 'ae.encoder.5.norm2.bias', 'ae.encoder.5.ff.0.weight', 'ae.encoder.5.ff.0.bias', 'ae.encoder.5.ff.3.weight', 'ae.encoder.5.ff.3.bias', 'ae.encoder.6.attention_layer.attention_weights', 'ae.encoder.6.attention_layer.attention_scale', 'ae.encoder.6.norm1.weight', 'ae.encoder.6.norm1.bias', 'ae.encoder.6.norm2.weight', 'ae.encoder.6.norm2.bias', 'ae.encoder.6.ff.0.weight', 'ae.encoder.6.ff.0.bias', 'ae.encoder.6.ff.3.weight', 'ae.encoder.6.ff.3.bias', 'ae.encoder.7.attention_layer.attention_weights', 'ae.encoder.7.attention_layer.attention_scale', 'ae.encoder.7.norm1.weight', 'ae.encoder.7.norm1.bias', 'ae.encoder.7.norm2.weight', 'ae.encoder.7.norm2.bias', 'ae.encoder.7.ff.0.weight', 'ae.encoder.7.ff.0.bias', 'ae.encoder.7.ff.3.weight', 'ae.encoder.7.ff.3.bias', 'fc1.weight', 'fc1.bias', 'fc2.weight', 'fc2.bias'])"
      ]
     },
     "execution_count": 6,
     "metadata": {},
     "output_type": "execute_result"
    }
   ],
   "source": [
    "param_dict['state_dict'].keys()"
   ]
  }
 ],
 "metadata": {
  "kernelspec": {
   "display_name": "Python 3.7.13 ('tempel_cov')",
   "language": "python",
   "name": "python3"
  },
  "language_info": {
   "codemirror_mode": {
    "name": "ipython",
    "version": 3
   },
   "file_extension": ".py",
   "mimetype": "text/x-python",
   "name": "python",
   "nbconvert_exporter": "python",
   "pygments_lexer": "ipython3",
   "version": "3.10.6"
  },
  "orig_nbformat": 4,
  "vscode": {
   "interpreter": {
    "hash": "8fbac656b2d30610a307e1b3ca473cb1e2f00097d4e421d044cbd4e925ea0bd5"
   }
  }
 },
 "nbformat": 4,
 "nbformat_minor": 2
}
